{
  "nbformat": 4,
  "nbformat_minor": 0,
  "metadata": {
    "colab": {
      "provenance": [],
      "toc_visible": true
    },
    "kernelspec": {
      "name": "python3",
      "display_name": "Python 3"
    },
    "language_info": {
      "name": "python"
    }
  },
  "cells": [
    {
      "cell_type": "markdown",
      "source": [
        "# EDA - Visualización"
      ],
      "metadata": {
        "id": "az-kGNphbFpN"
      }
    },
    {
      "cell_type": "markdown",
      "source": [
        "**Visualización de datos y creación de resúmenes estadísticos.**\n",
        "<BR>\n",
        "\n",
        "Hacer visualizaciones informativas (también llamadas gráficos o plots) es una de las tareas más importantes en el análisis de datos.\n",
        "Estas visualizaciones pueden tener distintos propósitos:\n",
        "\n",
        "* Exploratorio: para detectar valores atípicos (outliers), identificar la necesidad de transformar datos o generar ideas para modelos.\n",
        "\n",
        "* Comunicativo o final: en algunos casos, el objetivo es construir una visualización interactiva (por ejemplo, para la web) como producto final del análisis.\n",
        "<BR>\n",
        "\n",
        "Python ofrece muchas bibliotecas para crear visualizaciones estáticas o dinámicas. Sin embargo, la más importante es Matplotlib, y muchas otras herramientas se basan en ella. Por ello veremos también Seaborn (sns)"
      ],
      "metadata": {
        "id": "77Vtxw1zbU0E"
      }
    },
    {
      "cell_type": "markdown",
      "source": [
        "Armamos una función que genera/simula calificaciones de estudiantes"
      ],
      "metadata": {
        "id": "CWZznNo9WXq8"
      }
    },
    {
      "cell_type": "code",
      "source": [
        "import matplotlib.pyplot as plt\n",
        "import seaborn as sns\n",
        "import pandas as pd\n",
        "import numpy as np"
      ],
      "metadata": {
        "id": "NM5uXvbDEieX"
      },
      "execution_count": 1,
      "outputs": []
    },
    {
      "cell_type": "code",
      "source": [
        "from scipy.stats import truncnorm\n",
        "import numpy as np\n",
        "\n",
        "def gen_notas(media, desvio, n, minimo=1, maximo=10):\n",
        "    \"\"\"\n",
        "    Genera una distribución normal truncada entre 'minimo' y 'maximo'.\n",
        "\n",
        "    Parámetros:\n",
        "    -----------\n",
        "    media : float\n",
        "        Media (mu) de la distribución.\n",
        "    desvio : float\n",
        "        Desviación estándar (sigma).\n",
        "    n : int\n",
        "        Número de observaciones a generar.\n",
        "    minimo : float, opcional\n",
        "        Valor mínimo permitido (default = 1).\n",
        "    maximo : float, opcional\n",
        "        Valor máximo permitido (default = 10).\n",
        "\n",
        "    Retorna:\n",
        "    --------\n",
        "    np.ndarray\n",
        "        Array de NumPy con los valores generados.\n",
        "    \"\"\"\n",
        "    # Calcular los límites normalizados\n",
        "    a, b = (minimo - media) / desvio, (maximo - media) / desvio\n",
        "\n",
        "    # Generar muestra truncada\n",
        "    muestra = truncnorm(a, b, loc=media, scale=desvio).rvs(n).round(1)\n",
        "\n",
        "    return np.array(muestra)"
      ],
      "metadata": {
        "id": "8O3Kzv4bMZqC"
      },
      "execution_count": 2,
      "outputs": []
    },
    {
      "cell_type": "markdown",
      "source": [
        "## Ejemplo de visualización con Matplotlib\n"
      ],
      "metadata": {
        "id": "LHnnywbjbrET"
      }
    },
    {
      "cell_type": "markdown",
      "source": [
        "### Generar variables y valores"
      ],
      "metadata": {
        "id": "_LeCKsvU4fJI"
      }
    },
    {
      "cell_type": "code",
      "source": [
        "# Generamos notas para un grupo de estudiantes, usando la funcion gen_notas()\n",
        "# array = gen_notas(mean, desv, n)\n",
        "notas = pd.DataFrame(\n",
        "    {\n",
        "        'grupo_1': gen_notas(8, 1, 100000),\n",
        "        'grupo_1': gen_notas(5, 3, 100000),\n",
        "    }\n",
        ")\n",
        "notas.describe()"
      ],
      "metadata": {
        "id": "rJzFHRY6WjjM",
        "outputId": "c372875a-da52-486f-c089-7ac37aa3e3e7",
        "colab": {
          "base_uri": "https://localhost:8080/",
          "height": 300
        }
      },
      "execution_count": 5,
      "outputs": [
        {
          "output_type": "execute_result",
          "data": {
            "text/plain": [
              "             grupo_1\n",
              "count  100000.000000\n",
              "mean        5.217677\n",
              "std         2.217939\n",
              "min         1.000000\n",
              "25%         3.500000\n",
              "50%         5.200000\n",
              "75%         6.900000\n",
              "max        10.000000"
            ],
            "text/html": [
              "\n",
              "  <div id=\"df-69e5b2a3-09ee-41f3-a184-14cae02b2dae\" class=\"colab-df-container\">\n",
              "    <div>\n",
              "<style scoped>\n",
              "    .dataframe tbody tr th:only-of-type {\n",
              "        vertical-align: middle;\n",
              "    }\n",
              "\n",
              "    .dataframe tbody tr th {\n",
              "        vertical-align: top;\n",
              "    }\n",
              "\n",
              "    .dataframe thead th {\n",
              "        text-align: right;\n",
              "    }\n",
              "</style>\n",
              "<table border=\"1\" class=\"dataframe\">\n",
              "  <thead>\n",
              "    <tr style=\"text-align: right;\">\n",
              "      <th></th>\n",
              "      <th>grupo_1</th>\n",
              "    </tr>\n",
              "  </thead>\n",
              "  <tbody>\n",
              "    <tr>\n",
              "      <th>count</th>\n",
              "      <td>100000.000000</td>\n",
              "    </tr>\n",
              "    <tr>\n",
              "      <th>mean</th>\n",
              "      <td>5.217677</td>\n",
              "    </tr>\n",
              "    <tr>\n",
              "      <th>std</th>\n",
              "      <td>2.217939</td>\n",
              "    </tr>\n",
              "    <tr>\n",
              "      <th>min</th>\n",
              "      <td>1.000000</td>\n",
              "    </tr>\n",
              "    <tr>\n",
              "      <th>25%</th>\n",
              "      <td>3.500000</td>\n",
              "    </tr>\n",
              "    <tr>\n",
              "      <th>50%</th>\n",
              "      <td>5.200000</td>\n",
              "    </tr>\n",
              "    <tr>\n",
              "      <th>75%</th>\n",
              "      <td>6.900000</td>\n",
              "    </tr>\n",
              "    <tr>\n",
              "      <th>max</th>\n",
              "      <td>10.000000</td>\n",
              "    </tr>\n",
              "  </tbody>\n",
              "</table>\n",
              "</div>\n",
              "    <div class=\"colab-df-buttons\">\n",
              "\n",
              "  <div class=\"colab-df-container\">\n",
              "    <button class=\"colab-df-convert\" onclick=\"convertToInteractive('df-69e5b2a3-09ee-41f3-a184-14cae02b2dae')\"\n",
              "            title=\"Convert this dataframe to an interactive table.\"\n",
              "            style=\"display:none;\">\n",
              "\n",
              "  <svg xmlns=\"http://www.w3.org/2000/svg\" height=\"24px\" viewBox=\"0 -960 960 960\">\n",
              "    <path d=\"M120-120v-720h720v720H120Zm60-500h600v-160H180v160Zm220 220h160v-160H400v160Zm0 220h160v-160H400v160ZM180-400h160v-160H180v160Zm440 0h160v-160H620v160ZM180-180h160v-160H180v160Zm440 0h160v-160H620v160Z\"/>\n",
              "  </svg>\n",
              "    </button>\n",
              "\n",
              "  <style>\n",
              "    .colab-df-container {\n",
              "      display:flex;\n",
              "      gap: 12px;\n",
              "    }\n",
              "\n",
              "    .colab-df-convert {\n",
              "      background-color: #E8F0FE;\n",
              "      border: none;\n",
              "      border-radius: 50%;\n",
              "      cursor: pointer;\n",
              "      display: none;\n",
              "      fill: #1967D2;\n",
              "      height: 32px;\n",
              "      padding: 0 0 0 0;\n",
              "      width: 32px;\n",
              "    }\n",
              "\n",
              "    .colab-df-convert:hover {\n",
              "      background-color: #E2EBFA;\n",
              "      box-shadow: 0px 1px 2px rgba(60, 64, 67, 0.3), 0px 1px 3px 1px rgba(60, 64, 67, 0.15);\n",
              "      fill: #174EA6;\n",
              "    }\n",
              "\n",
              "    .colab-df-buttons div {\n",
              "      margin-bottom: 4px;\n",
              "    }\n",
              "\n",
              "    [theme=dark] .colab-df-convert {\n",
              "      background-color: #3B4455;\n",
              "      fill: #D2E3FC;\n",
              "    }\n",
              "\n",
              "    [theme=dark] .colab-df-convert:hover {\n",
              "      background-color: #434B5C;\n",
              "      box-shadow: 0px 1px 3px 1px rgba(0, 0, 0, 0.15);\n",
              "      filter: drop-shadow(0px 1px 2px rgba(0, 0, 0, 0.3));\n",
              "      fill: #FFFFFF;\n",
              "    }\n",
              "  </style>\n",
              "\n",
              "    <script>\n",
              "      const buttonEl =\n",
              "        document.querySelector('#df-69e5b2a3-09ee-41f3-a184-14cae02b2dae button.colab-df-convert');\n",
              "      buttonEl.style.display =\n",
              "        google.colab.kernel.accessAllowed ? 'block' : 'none';\n",
              "\n",
              "      async function convertToInteractive(key) {\n",
              "        const element = document.querySelector('#df-69e5b2a3-09ee-41f3-a184-14cae02b2dae');\n",
              "        const dataTable =\n",
              "          await google.colab.kernel.invokeFunction('convertToInteractive',\n",
              "                                                    [key], {});\n",
              "        if (!dataTable) return;\n",
              "\n",
              "        const docLinkHtml = 'Like what you see? Visit the ' +\n",
              "          '<a target=\"_blank\" href=https://colab.research.google.com/notebooks/data_table.ipynb>data table notebook</a>'\n",
              "          + ' to learn more about interactive tables.';\n",
              "        element.innerHTML = '';\n",
              "        dataTable['output_type'] = 'display_data';\n",
              "        await google.colab.output.renderOutput(dataTable, element);\n",
              "        const docLink = document.createElement('div');\n",
              "        docLink.innerHTML = docLinkHtml;\n",
              "        element.appendChild(docLink);\n",
              "      }\n",
              "    </script>\n",
              "  </div>\n",
              "\n",
              "\n",
              "    <div id=\"df-b12690c9-9ee4-4afa-b091-96d0893a0267\">\n",
              "      <button class=\"colab-df-quickchart\" onclick=\"quickchart('df-b12690c9-9ee4-4afa-b091-96d0893a0267')\"\n",
              "                title=\"Suggest charts\"\n",
              "                style=\"display:none;\">\n",
              "\n",
              "<svg xmlns=\"http://www.w3.org/2000/svg\" height=\"24px\"viewBox=\"0 0 24 24\"\n",
              "     width=\"24px\">\n",
              "    <g>\n",
              "        <path d=\"M19 3H5c-1.1 0-2 .9-2 2v14c0 1.1.9 2 2 2h14c1.1 0 2-.9 2-2V5c0-1.1-.9-2-2-2zM9 17H7v-7h2v7zm4 0h-2V7h2v10zm4 0h-2v-4h2v4z\"/>\n",
              "    </g>\n",
              "</svg>\n",
              "      </button>\n",
              "\n",
              "<style>\n",
              "  .colab-df-quickchart {\n",
              "      --bg-color: #E8F0FE;\n",
              "      --fill-color: #1967D2;\n",
              "      --hover-bg-color: #E2EBFA;\n",
              "      --hover-fill-color: #174EA6;\n",
              "      --disabled-fill-color: #AAA;\n",
              "      --disabled-bg-color: #DDD;\n",
              "  }\n",
              "\n",
              "  [theme=dark] .colab-df-quickchart {\n",
              "      --bg-color: #3B4455;\n",
              "      --fill-color: #D2E3FC;\n",
              "      --hover-bg-color: #434B5C;\n",
              "      --hover-fill-color: #FFFFFF;\n",
              "      --disabled-bg-color: #3B4455;\n",
              "      --disabled-fill-color: #666;\n",
              "  }\n",
              "\n",
              "  .colab-df-quickchart {\n",
              "    background-color: var(--bg-color);\n",
              "    border: none;\n",
              "    border-radius: 50%;\n",
              "    cursor: pointer;\n",
              "    display: none;\n",
              "    fill: var(--fill-color);\n",
              "    height: 32px;\n",
              "    padding: 0;\n",
              "    width: 32px;\n",
              "  }\n",
              "\n",
              "  .colab-df-quickchart:hover {\n",
              "    background-color: var(--hover-bg-color);\n",
              "    box-shadow: 0 1px 2px rgba(60, 64, 67, 0.3), 0 1px 3px 1px rgba(60, 64, 67, 0.15);\n",
              "    fill: var(--button-hover-fill-color);\n",
              "  }\n",
              "\n",
              "  .colab-df-quickchart-complete:disabled,\n",
              "  .colab-df-quickchart-complete:disabled:hover {\n",
              "    background-color: var(--disabled-bg-color);\n",
              "    fill: var(--disabled-fill-color);\n",
              "    box-shadow: none;\n",
              "  }\n",
              "\n",
              "  .colab-df-spinner {\n",
              "    border: 2px solid var(--fill-color);\n",
              "    border-color: transparent;\n",
              "    border-bottom-color: var(--fill-color);\n",
              "    animation:\n",
              "      spin 1s steps(1) infinite;\n",
              "  }\n",
              "\n",
              "  @keyframes spin {\n",
              "    0% {\n",
              "      border-color: transparent;\n",
              "      border-bottom-color: var(--fill-color);\n",
              "      border-left-color: var(--fill-color);\n",
              "    }\n",
              "    20% {\n",
              "      border-color: transparent;\n",
              "      border-left-color: var(--fill-color);\n",
              "      border-top-color: var(--fill-color);\n",
              "    }\n",
              "    30% {\n",
              "      border-color: transparent;\n",
              "      border-left-color: var(--fill-color);\n",
              "      border-top-color: var(--fill-color);\n",
              "      border-right-color: var(--fill-color);\n",
              "    }\n",
              "    40% {\n",
              "      border-color: transparent;\n",
              "      border-right-color: var(--fill-color);\n",
              "      border-top-color: var(--fill-color);\n",
              "    }\n",
              "    60% {\n",
              "      border-color: transparent;\n",
              "      border-right-color: var(--fill-color);\n",
              "    }\n",
              "    80% {\n",
              "      border-color: transparent;\n",
              "      border-right-color: var(--fill-color);\n",
              "      border-bottom-color: var(--fill-color);\n",
              "    }\n",
              "    90% {\n",
              "      border-color: transparent;\n",
              "      border-bottom-color: var(--fill-color);\n",
              "    }\n",
              "  }\n",
              "</style>\n",
              "\n",
              "      <script>\n",
              "        async function quickchart(key) {\n",
              "          const quickchartButtonEl =\n",
              "            document.querySelector('#' + key + ' button');\n",
              "          quickchartButtonEl.disabled = true;  // To prevent multiple clicks.\n",
              "          quickchartButtonEl.classList.add('colab-df-spinner');\n",
              "          try {\n",
              "            const charts = await google.colab.kernel.invokeFunction(\n",
              "                'suggestCharts', [key], {});\n",
              "          } catch (error) {\n",
              "            console.error('Error during call to suggestCharts:', error);\n",
              "          }\n",
              "          quickchartButtonEl.classList.remove('colab-df-spinner');\n",
              "          quickchartButtonEl.classList.add('colab-df-quickchart-complete');\n",
              "        }\n",
              "        (() => {\n",
              "          let quickchartButtonEl =\n",
              "            document.querySelector('#df-b12690c9-9ee4-4afa-b091-96d0893a0267 button');\n",
              "          quickchartButtonEl.style.display =\n",
              "            google.colab.kernel.accessAllowed ? 'block' : 'none';\n",
              "        })();\n",
              "      </script>\n",
              "    </div>\n",
              "\n",
              "    </div>\n",
              "  </div>\n"
            ],
            "application/vnd.google.colaboratory.intrinsic+json": {
              "type": "dataframe",
              "summary": "{\n  \"name\": \"notas\",\n  \"rows\": 8,\n  \"fields\": [\n    {\n      \"column\": \"grupo_1\",\n      \"properties\": {\n        \"dtype\": \"number\",\n        \"std\": 35353.62011131869,\n        \"min\": 1.0,\n        \"max\": 100000.0,\n        \"num_unique_values\": 8,\n        \"samples\": [\n          5.217676999999999,\n          5.2,\n          100000.0\n        ],\n        \"semantic_type\": \"\",\n        \"description\": \"\"\n      }\n    }\n  ]\n}"
            }
          },
          "metadata": {},
          "execution_count": 5
        }
      ]
    },
    {
      "cell_type": "markdown",
      "source": [
        "### Histograma simple"
      ],
      "metadata": {
        "id": "EPo9PqNrdb-g"
      }
    },
    {
      "cell_type": "code",
      "source": [],
      "metadata": {
        "id": "v4T6Dc5_--F5"
      },
      "execution_count": null,
      "outputs": []
    },
    {
      "cell_type": "code",
      "source": [
        "# Veamos de graficar un histograma (distribución de las notas)\n",
        "# Luego probemos a agregar bins, color, alpha\n"
      ],
      "metadata": {
        "id": "N9omEtdiYKa7"
      },
      "execution_count": null,
      "outputs": []
    },
    {
      "cell_type": "markdown",
      "source": [
        "### Histograma comparativo - Versión 1"
      ],
      "metadata": {
        "id": "k3KWWMYs2pEy"
      }
    },
    {
      "cell_type": "code",
      "source": [
        "# Veamos un resumen estadístico\n",
        "notas.describe()"
      ],
      "metadata": {
        "id": "RsWWyn-8dlxw",
        "outputId": "91fb854e-99d9-4ea0-e648-e8aecae3a6d4",
        "colab": {
          "base_uri": "https://localhost:8080/",
          "height": 300
        }
      },
      "execution_count": 4,
      "outputs": [
        {
          "output_type": "execute_result",
          "data": {
            "text/plain": [
              "           grupo_1\n",
              "count  1000.000000\n",
              "mean      8.007100\n",
              "std       0.925287\n",
              "min       5.000000\n",
              "25%       7.400000\n",
              "50%       8.000000\n",
              "75%       8.700000\n",
              "max      10.000000"
            ],
            "text/html": [
              "\n",
              "  <div id=\"df-18501de6-2f14-42e0-ae6f-c9f95e80b16d\" class=\"colab-df-container\">\n",
              "    <div>\n",
              "<style scoped>\n",
              "    .dataframe tbody tr th:only-of-type {\n",
              "        vertical-align: middle;\n",
              "    }\n",
              "\n",
              "    .dataframe tbody tr th {\n",
              "        vertical-align: top;\n",
              "    }\n",
              "\n",
              "    .dataframe thead th {\n",
              "        text-align: right;\n",
              "    }\n",
              "</style>\n",
              "<table border=\"1\" class=\"dataframe\">\n",
              "  <thead>\n",
              "    <tr style=\"text-align: right;\">\n",
              "      <th></th>\n",
              "      <th>grupo_1</th>\n",
              "    </tr>\n",
              "  </thead>\n",
              "  <tbody>\n",
              "    <tr>\n",
              "      <th>count</th>\n",
              "      <td>1000.000000</td>\n",
              "    </tr>\n",
              "    <tr>\n",
              "      <th>mean</th>\n",
              "      <td>8.007100</td>\n",
              "    </tr>\n",
              "    <tr>\n",
              "      <th>std</th>\n",
              "      <td>0.925287</td>\n",
              "    </tr>\n",
              "    <tr>\n",
              "      <th>min</th>\n",
              "      <td>5.000000</td>\n",
              "    </tr>\n",
              "    <tr>\n",
              "      <th>25%</th>\n",
              "      <td>7.400000</td>\n",
              "    </tr>\n",
              "    <tr>\n",
              "      <th>50%</th>\n",
              "      <td>8.000000</td>\n",
              "    </tr>\n",
              "    <tr>\n",
              "      <th>75%</th>\n",
              "      <td>8.700000</td>\n",
              "    </tr>\n",
              "    <tr>\n",
              "      <th>max</th>\n",
              "      <td>10.000000</td>\n",
              "    </tr>\n",
              "  </tbody>\n",
              "</table>\n",
              "</div>\n",
              "    <div class=\"colab-df-buttons\">\n",
              "\n",
              "  <div class=\"colab-df-container\">\n",
              "    <button class=\"colab-df-convert\" onclick=\"convertToInteractive('df-18501de6-2f14-42e0-ae6f-c9f95e80b16d')\"\n",
              "            title=\"Convert this dataframe to an interactive table.\"\n",
              "            style=\"display:none;\">\n",
              "\n",
              "  <svg xmlns=\"http://www.w3.org/2000/svg\" height=\"24px\" viewBox=\"0 -960 960 960\">\n",
              "    <path d=\"M120-120v-720h720v720H120Zm60-500h600v-160H180v160Zm220 220h160v-160H400v160Zm0 220h160v-160H400v160ZM180-400h160v-160H180v160Zm440 0h160v-160H620v160ZM180-180h160v-160H180v160Zm440 0h160v-160H620v160Z\"/>\n",
              "  </svg>\n",
              "    </button>\n",
              "\n",
              "  <style>\n",
              "    .colab-df-container {\n",
              "      display:flex;\n",
              "      gap: 12px;\n",
              "    }\n",
              "\n",
              "    .colab-df-convert {\n",
              "      background-color: #E8F0FE;\n",
              "      border: none;\n",
              "      border-radius: 50%;\n",
              "      cursor: pointer;\n",
              "      display: none;\n",
              "      fill: #1967D2;\n",
              "      height: 32px;\n",
              "      padding: 0 0 0 0;\n",
              "      width: 32px;\n",
              "    }\n",
              "\n",
              "    .colab-df-convert:hover {\n",
              "      background-color: #E2EBFA;\n",
              "      box-shadow: 0px 1px 2px rgba(60, 64, 67, 0.3), 0px 1px 3px 1px rgba(60, 64, 67, 0.15);\n",
              "      fill: #174EA6;\n",
              "    }\n",
              "\n",
              "    .colab-df-buttons div {\n",
              "      margin-bottom: 4px;\n",
              "    }\n",
              "\n",
              "    [theme=dark] .colab-df-convert {\n",
              "      background-color: #3B4455;\n",
              "      fill: #D2E3FC;\n",
              "    }\n",
              "\n",
              "    [theme=dark] .colab-df-convert:hover {\n",
              "      background-color: #434B5C;\n",
              "      box-shadow: 0px 1px 3px 1px rgba(0, 0, 0, 0.15);\n",
              "      filter: drop-shadow(0px 1px 2px rgba(0, 0, 0, 0.3));\n",
              "      fill: #FFFFFF;\n",
              "    }\n",
              "  </style>\n",
              "\n",
              "    <script>\n",
              "      const buttonEl =\n",
              "        document.querySelector('#df-18501de6-2f14-42e0-ae6f-c9f95e80b16d button.colab-df-convert');\n",
              "      buttonEl.style.display =\n",
              "        google.colab.kernel.accessAllowed ? 'block' : 'none';\n",
              "\n",
              "      async function convertToInteractive(key) {\n",
              "        const element = document.querySelector('#df-18501de6-2f14-42e0-ae6f-c9f95e80b16d');\n",
              "        const dataTable =\n",
              "          await google.colab.kernel.invokeFunction('convertToInteractive',\n",
              "                                                    [key], {});\n",
              "        if (!dataTable) return;\n",
              "\n",
              "        const docLinkHtml = 'Like what you see? Visit the ' +\n",
              "          '<a target=\"_blank\" href=https://colab.research.google.com/notebooks/data_table.ipynb>data table notebook</a>'\n",
              "          + ' to learn more about interactive tables.';\n",
              "        element.innerHTML = '';\n",
              "        dataTable['output_type'] = 'display_data';\n",
              "        await google.colab.output.renderOutput(dataTable, element);\n",
              "        const docLink = document.createElement('div');\n",
              "        docLink.innerHTML = docLinkHtml;\n",
              "        element.appendChild(docLink);\n",
              "      }\n",
              "    </script>\n",
              "  </div>\n",
              "\n",
              "\n",
              "    <div id=\"df-467ef5ee-89a4-423f-9319-4ab9e20d7e2b\">\n",
              "      <button class=\"colab-df-quickchart\" onclick=\"quickchart('df-467ef5ee-89a4-423f-9319-4ab9e20d7e2b')\"\n",
              "                title=\"Suggest charts\"\n",
              "                style=\"display:none;\">\n",
              "\n",
              "<svg xmlns=\"http://www.w3.org/2000/svg\" height=\"24px\"viewBox=\"0 0 24 24\"\n",
              "     width=\"24px\">\n",
              "    <g>\n",
              "        <path d=\"M19 3H5c-1.1 0-2 .9-2 2v14c0 1.1.9 2 2 2h14c1.1 0 2-.9 2-2V5c0-1.1-.9-2-2-2zM9 17H7v-7h2v7zm4 0h-2V7h2v10zm4 0h-2v-4h2v4z\"/>\n",
              "    </g>\n",
              "</svg>\n",
              "      </button>\n",
              "\n",
              "<style>\n",
              "  .colab-df-quickchart {\n",
              "      --bg-color: #E8F0FE;\n",
              "      --fill-color: #1967D2;\n",
              "      --hover-bg-color: #E2EBFA;\n",
              "      --hover-fill-color: #174EA6;\n",
              "      --disabled-fill-color: #AAA;\n",
              "      --disabled-bg-color: #DDD;\n",
              "  }\n",
              "\n",
              "  [theme=dark] .colab-df-quickchart {\n",
              "      --bg-color: #3B4455;\n",
              "      --fill-color: #D2E3FC;\n",
              "      --hover-bg-color: #434B5C;\n",
              "      --hover-fill-color: #FFFFFF;\n",
              "      --disabled-bg-color: #3B4455;\n",
              "      --disabled-fill-color: #666;\n",
              "  }\n",
              "\n",
              "  .colab-df-quickchart {\n",
              "    background-color: var(--bg-color);\n",
              "    border: none;\n",
              "    border-radius: 50%;\n",
              "    cursor: pointer;\n",
              "    display: none;\n",
              "    fill: var(--fill-color);\n",
              "    height: 32px;\n",
              "    padding: 0;\n",
              "    width: 32px;\n",
              "  }\n",
              "\n",
              "  .colab-df-quickchart:hover {\n",
              "    background-color: var(--hover-bg-color);\n",
              "    box-shadow: 0 1px 2px rgba(60, 64, 67, 0.3), 0 1px 3px 1px rgba(60, 64, 67, 0.15);\n",
              "    fill: var(--button-hover-fill-color);\n",
              "  }\n",
              "\n",
              "  .colab-df-quickchart-complete:disabled,\n",
              "  .colab-df-quickchart-complete:disabled:hover {\n",
              "    background-color: var(--disabled-bg-color);\n",
              "    fill: var(--disabled-fill-color);\n",
              "    box-shadow: none;\n",
              "  }\n",
              "\n",
              "  .colab-df-spinner {\n",
              "    border: 2px solid var(--fill-color);\n",
              "    border-color: transparent;\n",
              "    border-bottom-color: var(--fill-color);\n",
              "    animation:\n",
              "      spin 1s steps(1) infinite;\n",
              "  }\n",
              "\n",
              "  @keyframes spin {\n",
              "    0% {\n",
              "      border-color: transparent;\n",
              "      border-bottom-color: var(--fill-color);\n",
              "      border-left-color: var(--fill-color);\n",
              "    }\n",
              "    20% {\n",
              "      border-color: transparent;\n",
              "      border-left-color: var(--fill-color);\n",
              "      border-top-color: var(--fill-color);\n",
              "    }\n",
              "    30% {\n",
              "      border-color: transparent;\n",
              "      border-left-color: var(--fill-color);\n",
              "      border-top-color: var(--fill-color);\n",
              "      border-right-color: var(--fill-color);\n",
              "    }\n",
              "    40% {\n",
              "      border-color: transparent;\n",
              "      border-right-color: var(--fill-color);\n",
              "      border-top-color: var(--fill-color);\n",
              "    }\n",
              "    60% {\n",
              "      border-color: transparent;\n",
              "      border-right-color: var(--fill-color);\n",
              "    }\n",
              "    80% {\n",
              "      border-color: transparent;\n",
              "      border-right-color: var(--fill-color);\n",
              "      border-bottom-color: var(--fill-color);\n",
              "    }\n",
              "    90% {\n",
              "      border-color: transparent;\n",
              "      border-bottom-color: var(--fill-color);\n",
              "    }\n",
              "  }\n",
              "</style>\n",
              "\n",
              "      <script>\n",
              "        async function quickchart(key) {\n",
              "          const quickchartButtonEl =\n",
              "            document.querySelector('#' + key + ' button');\n",
              "          quickchartButtonEl.disabled = true;  // To prevent multiple clicks.\n",
              "          quickchartButtonEl.classList.add('colab-df-spinner');\n",
              "          try {\n",
              "            const charts = await google.colab.kernel.invokeFunction(\n",
              "                'suggestCharts', [key], {});\n",
              "          } catch (error) {\n",
              "            console.error('Error during call to suggestCharts:', error);\n",
              "          }\n",
              "          quickchartButtonEl.classList.remove('colab-df-spinner');\n",
              "          quickchartButtonEl.classList.add('colab-df-quickchart-complete');\n",
              "        }\n",
              "        (() => {\n",
              "          let quickchartButtonEl =\n",
              "            document.querySelector('#df-467ef5ee-89a4-423f-9319-4ab9e20d7e2b button');\n",
              "          quickchartButtonEl.style.display =\n",
              "            google.colab.kernel.accessAllowed ? 'block' : 'none';\n",
              "        })();\n",
              "      </script>\n",
              "    </div>\n",
              "\n",
              "    </div>\n",
              "  </div>\n"
            ],
            "application/vnd.google.colaboratory.intrinsic+json": {
              "type": "dataframe",
              "summary": "{\n  \"name\": \"notas\",\n  \"rows\": 8,\n  \"fields\": [\n    {\n      \"column\": \"grupo_1\",\n      \"properties\": {\n        \"dtype\": \"number\",\n        \"std\": 351.1385429309352,\n        \"min\": 0.9252868451165551,\n        \"max\": 1000.0,\n        \"num_unique_values\": 8,\n        \"samples\": [\n          8.007100000000001,\n          8.0,\n          1000.0\n        ],\n        \"semantic_type\": \"\",\n        \"description\": \"\"\n      }\n    }\n  ]\n}"
            }
          },
          "metadata": {},
          "execution_count": 4
        }
      ]
    },
    {
      "cell_type": "code",
      "source": [
        "# Queremos hacer un gráfico, pero comparativo\n",
        "plt.figure(figsize=((10,6)))\n",
        "\n",
        "# Grupo 1\n",
        "plt.subplot(1,2,1)\n",
        "plt.hist(notas[\"grupo_1\"], bins=\"auto\", color=\"skyblue\", alpha=0.5, label=\"Grupo 2\")\n",
        "plt.title(\"Histograma de notas\")\n",
        "plt.legend()"
      ],
      "metadata": {
        "id": "zCUH1TtYoGxT"
      },
      "execution_count": null,
      "outputs": []
    },
    {
      "cell_type": "markdown",
      "source": [
        "### Histograma comparativo - Versión 2"
      ],
      "metadata": {
        "id": "lx0sxvik8v2a"
      }
    },
    {
      "cell_type": "code",
      "source": [
        "# Queremos hacer un gráfico, pero comparativo\n"
      ],
      "metadata": {
        "id": "kGYOTnC28Hqj"
      },
      "execution_count": null,
      "outputs": []
    },
    {
      "cell_type": "markdown",
      "source": [
        "### Boxplot simple"
      ],
      "metadata": {
        "id": "UmcsQd_xtGmf"
      }
    },
    {
      "cell_type": "code",
      "source": [
        "# Veamos como graficar un boxplot\n"
      ],
      "metadata": {
        "id": "odyVKSB9ZrMy"
      },
      "execution_count": null,
      "outputs": []
    },
    {
      "cell_type": "markdown",
      "source": [
        "## Ejemplo de visualización con Seaborn"
      ],
      "metadata": {
        "id": "YTPuO75fb73z"
      }
    },
    {
      "cell_type": "markdown",
      "source": [
        "Seaborn, que se basa en Matplotlib, ofrece una interfaz más sencilla para crear\n",
        "gráficos estadísticos. Continuando con nuestro conjunto de datos anterior, podemos\n",
        "usar Seaborn para crear un gráfico de distribución.\n"
      ],
      "metadata": {
        "id": "I0m8Qld2cBIr"
      }
    },
    {
      "cell_type": "markdown",
      "source": [
        "Sintaxis:\n",
        "<BR>\n",
        "`sns.barplot(x='columna_x', y='columna_y', data=df)`"
      ],
      "metadata": {
        "id": "eC1vQ5FjdWOT"
      }
    },
    {
      "cell_type": "markdown",
      "source": [
        "Ventajas de sns.histplot()\n",
        "\n",
        "* Integra directamente con pandas (solo pasás data= , x=).\n",
        "* Tiene parámetros como hue, kde, stat, etc.\n",
        "* Estéticamente más agradable (usa el estilo por defecto de Seaborn)."
      ],
      "metadata": {
        "id": "ge3csSTwytv8"
      }
    },
    {
      "cell_type": "markdown",
      "source": [
        "### Histograma simple"
      ],
      "metadata": {
        "id": "IUfwO-aV2QuK"
      }
    },
    {
      "cell_type": "code",
      "source": [],
      "metadata": {
        "id": "w7Ek4OJ1yiQj"
      },
      "execution_count": null,
      "outputs": []
    },
    {
      "cell_type": "markdown",
      "source": [
        "### Histograma comparativo - Version 1"
      ],
      "metadata": {
        "id": "VvIwdrww25cB"
      }
    },
    {
      "cell_type": "code",
      "source": [
        "\n"
      ],
      "metadata": {
        "id": "lbefq9xD0gaz"
      },
      "execution_count": null,
      "outputs": []
    },
    {
      "cell_type": "markdown",
      "source": [
        "### Histograma comparativo - Versión 2"
      ],
      "metadata": {
        "id": "kX11XJTq_e5p"
      }
    },
    {
      "cell_type": "code",
      "source": [],
      "metadata": {
        "id": "drIFtegq_fkh"
      },
      "execution_count": null,
      "outputs": []
    },
    {
      "cell_type": "markdown",
      "source": [
        "### Boxplot simple"
      ],
      "metadata": {
        "id": "72CFONvg27yh"
      }
    },
    {
      "cell_type": "code",
      "source": [
        "\n"
      ],
      "metadata": {
        "id": "L0UsQR5-3A3x"
      },
      "execution_count": null,
      "outputs": []
    },
    {
      "cell_type": "markdown",
      "source": [
        "### Boxplot comparativo"
      ],
      "metadata": {
        "id": "-HeIJEjy2-O5"
      }
    },
    {
      "cell_type": "code",
      "source": [],
      "metadata": {
        "id": "Fc6qYv9h3lEZ"
      },
      "execution_count": null,
      "outputs": []
    },
    {
      "cell_type": "markdown",
      "source": [],
      "metadata": {
        "id": "T8nYGAzMfnM3"
      }
    },
    {
      "cell_type": "code",
      "source": [
        "\n"
      ],
      "metadata": {
        "id": "v5xCwZj3fngv"
      },
      "execution_count": null,
      "outputs": []
    },
    {
      "cell_type": "markdown",
      "source": [
        "# EDA: Base de datos \"Tips\" de Seaborn\n",
        "En esta sección, realizaremos un análisis exploratorio utilizando la base de datos\n",
        "\"tips\" de Seaborn. Esta base de datos recopila información sobre las propinas que\n",
        "se dejan en un restaurante, incluyendo datos como el total de la cuenta, el\n",
        "porcentaje de propina, el día de la semana, y la cantidad de personas en la mesa.\n",
        "Primero, cargaremos el conjunto de datos y realizaremos diferentes análisis y\n",
        "visualizaciones para extraer información significativa."
      ],
      "metadata": {
        "id": "R8iJ31YTeL9K"
      }
    },
    {
      "cell_type": "markdown",
      "source": [
        "* `total_bill`: Monto total de la cuenta.\n",
        "* `tip`: Monto de la propina.\n",
        "* `sex`: Género del cliente.\n",
        "* `smoker`: Indica si el cliente es fumador o no.\n",
        "* `day`: Día de la semana.\n",
        "* `time`: Hora de la comida (almuerzo o cena).\n",
        "* `size`: Número de personas en la mesa."
      ],
      "metadata": {
        "id": "ibRIL_pk7CAE"
      }
    },
    {
      "cell_type": "markdown",
      "source": [
        "## Importamos el dataset"
      ],
      "metadata": {
        "id": "OmEiHyTfDIJW"
      }
    },
    {
      "cell_type": "code",
      "source": [
        "import seaborn as sns\n",
        "import pandas as pd\n",
        "import matplotlib.pyplot as plt\n",
        "# Cargar la base de datos tips de Seaborn\n",
        "tips = sns.load_dataset(\"tips\")\n",
        "# Visualizar las primeras filas del DataFrame\n",
        "# tips.head()\n",
        "print(tips.head())"
      ],
      "metadata": {
        "id": "qDPUdPXXeZ0q"
      },
      "execution_count": null,
      "outputs": []
    },
    {
      "cell_type": "code",
      "source": [
        "# Veamos algunos datos estadísticos\n",
        "tips.describe()"
      ],
      "metadata": {
        "id": "SeI_7zU-7ND0"
      },
      "execution_count": null,
      "outputs": []
    },
    {
      "cell_type": "markdown",
      "source": [
        "## Graficamos Histogramas"
      ],
      "metadata": {
        "id": "KRwn0bw5DNuX"
      }
    },
    {
      "cell_type": "code",
      "source": [],
      "metadata": {
        "id": "uItstnWUDQBP"
      },
      "execution_count": null,
      "outputs": []
    },
    {
      "cell_type": "markdown",
      "source": [
        "## Graficamos Boxplots"
      ],
      "metadata": {
        "id": "oipJ1lnMDLVQ"
      }
    },
    {
      "cell_type": "code",
      "source": [],
      "metadata": {
        "id": "KAsuqzfB7x2s"
      },
      "execution_count": null,
      "outputs": []
    },
    {
      "cell_type": "markdown",
      "source": [
        "## Que relación hay entre la cuenta \"bill\" y la propina \"tip\"?"
      ],
      "metadata": {
        "id": "mRDNp1quE1PX"
      }
    },
    {
      "cell_type": "code",
      "source": [],
      "metadata": {
        "id": "V35RXHShE8-G"
      },
      "execution_count": null,
      "outputs": []
    }
  ]
}